{
 "cells": [
  {
   "cell_type": "markdown",
   "metadata": {
    "slideshow": {
     "slide_type": "slide"
    }
   },
   "source": [
    "<img src=\"http://i.imgur.com/7rr6Tbr.png\" title=\"Hosted by imgur.com\"/>\n",
    "\n",
    "##April 20, 2014\n",
    ">Developed by [Robbie Lynch](http://robl.co/)\n",
    "\n",
    ">Supervised by [Paul Barry](http://glasnost.itcarlow.ie/~barryp/)\n",
    "\n",
    ">Institute of Technology, Carlow, Ireland.\n",
    "\n",
    "----\n",
    "\n",
    "##Download\n",
    "Download the IErlang Kernel for IPython at http://github.com/robbielynch/ierlang\n",
    "\n",
    "---"
   ]
  },
  {
   "cell_type": "markdown",
   "metadata": {
    "slideshow": {
     "slide_type": "slide"
    }
   },
   "source": [
    "#Data Types"
   ]
  },
  {
   "cell_type": "code",
   "execution_count": 1,
   "metadata": {
    "collapsed": false,
    "slideshow": {
     "slide_type": "fragment"
    }
   },
   "outputs": [
    {
     "data": {
      "text/html": [
       "1234"
      ],
      "text/plain": [
       "1234"
      ]
     },
     "execution_count": 1,
     "metadata": {},
     "output_type": "execute_result"
    }
   ],
   "source": [
    "AnInt = 1234."
   ]
  },
  {
   "cell_type": "code",
   "execution_count": 2,
   "metadata": {
    "collapsed": false,
    "slideshow": {
     "slide_type": "fragment"
    }
   },
   "outputs": [
    {
     "data": {
      "text/html": [
       "18.3333333333"
      ],
      "text/plain": [
       "18.3333333333"
      ]
     },
     "execution_count": 2,
     "metadata": {},
     "output_type": "execute_result"
    }
   ],
   "source": [
    "AFloat = 55 / 3."
   ]
  },
  {
   "cell_type": "code",
   "execution_count": 3,
   "metadata": {
    "collapsed": false,
    "slideshow": {
     "slide_type": "fragment"
    }
   },
   "outputs": [
    {
     "data": {
      "text/html": [
       "<pre>Awesome!</pre>"
      ],
      "text/plain": [
       "Awesome!"
      ]
     },
     "execution_count": 3,
     "metadata": {},
     "output_type": "execute_result"
    }
   ],
   "source": [
    "AString = \"Awesome!\"."
   ]
  },
  {
   "cell_type": "code",
   "execution_count": 4,
   "metadata": {
    "collapsed": false
   },
   "outputs": [
    {
     "data": {
      "text/html": [
       "<pre>'This is an atom with spaces'</pre>"
      ],
      "text/plain": [
       "'This is an atom with spaces'"
      ]
     },
     "execution_count": 4,
     "metadata": {},
     "output_type": "execute_result"
    }
   ],
   "source": [
    "AnAtom = 'This is an atom with spaces'."
   ]
  },
  {
   "cell_type": "code",
   "execution_count": 5,
   "metadata": {
    "collapsed": false
   },
   "outputs": [
    {
     "data": {
      "text/html": [
       "<pre>atom_with_no_spaces</pre>"
      ],
      "text/plain": [
       "atom_with_no_spaces"
      ]
     },
     "execution_count": 5,
     "metadata": {},
     "output_type": "execute_result"
    }
   ],
   "source": [
    "atom_with_no_spaces."
   ]
  },
  {
   "cell_type": "code",
   "execution_count": 6,
   "metadata": {
    "collapsed": false
   },
   "outputs": [
    {
     "data": {
      "text/html": [
       "<pre>{this,is,a,tuple_of_atoms}</pre>"
      ],
      "text/plain": [
       "{this,is,a,tuple_of_atoms}"
      ]
     },
     "execution_count": 6,
     "metadata": {},
     "output_type": "execute_result"
    }
   ],
   "source": [
    "{this, is, a, tuple_of_atoms}."
   ]
  },
  {
   "cell_type": "code",
   "execution_count": 7,
   "metadata": {
    "collapsed": false
   },
   "outputs": [
    {
     "data": {
      "text/html": [
       "[1, 2, 3, 4, 5]"
      ],
      "text/plain": [
       "[1, 2, 3, 4, 5]"
      ]
     },
     "execution_count": 7,
     "metadata": {},
     "output_type": "execute_result"
    }
   ],
   "source": [
    "AList = [1,2,3,4,5]."
   ]
  },
  {
   "cell_type": "markdown",
   "metadata": {},
   "source": [
    "#Variable Bindings\n",
    "i.e. Referring to previously assigned variables."
   ]
  },
  {
   "cell_type": "code",
   "execution_count": 8,
   "metadata": {
    "collapsed": false
   },
   "outputs": [
    {
     "data": {
      "text/html": [
       "100"
      ],
      "text/plain": [
       "100"
      ]
     },
     "execution_count": 8,
     "metadata": {},
     "output_type": "execute_result"
    }
   ],
   "source": [
    "AVariable = 100."
   ]
  },
  {
   "cell_type": "code",
   "execution_count": 9,
   "metadata": {
    "collapsed": false
   },
   "outputs": [
    {
     "data": {
      "text/html": [
       "77"
      ],
      "text/plain": [
       "77"
      ]
     },
     "execution_count": 9,
     "metadata": {},
     "output_type": "execute_result"
    }
   ],
   "source": [
    "AnotherVar = 77."
   ]
  },
  {
   "cell_type": "code",
   "execution_count": 10,
   "metadata": {
    "collapsed": false
   },
   "outputs": [
    {
     "data": {
      "text/html": [
       "177"
      ],
      "text/plain": [
       "177"
      ]
     },
     "execution_count": 10,
     "metadata": {},
     "output_type": "execute_result"
    }
   ],
   "source": [
    "AVariable + AnotherVar."
   ]
  },
  {
   "cell_type": "code",
   "execution_count": 11,
   "metadata": {
    "collapsed": false
   },
   "outputs": [
    {
     "data": {
      "text/html": [
       "[[], 177]"
      ],
      "text/plain": [
       "[[], 177]"
      ]
     },
     "execution_count": 11,
     "metadata": {},
     "output_type": "execute_result"
    }
   ],
   "source": [
    "NedStark = [[]|[AnotherVar + AVariable]]."
   ]
  },
  {
   "cell_type": "code",
   "execution_count": 12,
   "metadata": {
    "collapsed": false
   },
   "outputs": [
    {
     "data": {
      "text/html": [
       "[[], 177]"
      ],
      "text/plain": [
       "[[], 177]"
      ]
     },
     "execution_count": 12,
     "metadata": {},
     "output_type": "execute_result"
    }
   ],
   "source": [
    "NedStark."
   ]
  },
  {
   "cell_type": "markdown",
   "metadata": {},
   "source": [
    "#Built in Functions"
   ]
  },
  {
   "cell_type": "code",
   "execution_count": 13,
   "metadata": {
    "collapsed": false
   },
   "outputs": [
    {
     "data": {
      "text/html": [
       "[1, 2, 3, 4, 5, 6, 7, 8, 9, 10]"
      ],
      "text/plain": [
       "[1, 2, 3, 4, 5, 6, 7, 8, 9, 10]"
      ]
     },
     "execution_count": 13,
     "metadata": {},
     "output_type": "execute_result"
    }
   ],
   "source": [
    "lists:sort([10,9,8,3,5,4,6,1,7,2])."
   ]
  },
  {
   "cell_type": "code",
   "execution_count": 14,
   "metadata": {
    "collapsed": false
   },
   "outputs": [
    {
     "data": {
      "text/html": [
       "<pre>ok</pre>"
      ],
      "text/plain": [
       "ok"
      ]
     },
     "execution_count": 14,
     "metadata": {},
     "output_type": "execute_result"
    }
   ],
   "source": [
    "io:format(\"hello\")."
   ]
  },
  {
   "cell_type": "code",
   "execution_count": 15,
   "metadata": {
    "collapsed": false
   },
   "outputs": [
    {
     "data": {
      "text/html": [
       "<pre>true</pre>"
      ],
      "text/plain": [
       "true"
      ]
     },
     "execution_count": 15,
     "metadata": {},
     "output_type": "execute_result"
    }
   ],
   "source": [
    "is_integer(4325345)."
   ]
  },
  {
   "cell_type": "code",
   "execution_count": 16,
   "metadata": {
    "collapsed": false
   },
   "outputs": [
    {
     "data": {
      "text/html": [
       "<pre>/Users/oubiwann/Dropbox/lab/erlang/ierlang/notebooks<br /></pre>"
      ],
      "text/plain": [
       "/Users/oubiwann/Dropbox/lab/erlang/ierlang/notebooks\n"
      ]
     },
     "execution_count": 16,
     "metadata": {},
     "output_type": "execute_result"
    }
   ],
   "source": [
    "os:cmd(\"pwd\")."
   ]
  },
  {
   "cell_type": "code",
   "execution_count": 17,
   "metadata": {
    "collapsed": false
   },
   "outputs": [
    {
     "data": {
      "text/html": [
       "<pre>true</pre>"
      ],
      "text/plain": [
       "true"
      ]
     },
     "execution_count": 17,
     "metadata": {},
     "output_type": "execute_result"
    }
   ],
   "source": [
    "is_binary(<<\"Hello\">>)."
   ]
  },
  {
   "cell_type": "markdown",
   "metadata": {},
   "source": [
    "#Expressions"
   ]
  },
  {
   "cell_type": "code",
   "execution_count": 18,
   "metadata": {
    "collapsed": false
   },
   "outputs": [
    {
     "data": {
      "text/html": [
       "263164661000754185502995313263072243291280523500406936157710040110469708162166525705872"
      ],
      "text/plain": [
       "263164661000754185502995313263072243291280523500406936157710040110469708162166525705872"
      ]
     },
     "execution_count": 18,
     "metadata": {},
     "output_type": "execute_result"
    }
   ],
   "source": [
    "9283479238472398472398472394872398 * 28347632847623847623847623847623847623847632874623864."
   ]
  },
  {
   "cell_type": "code",
   "execution_count": 19,
   "metadata": {
    "collapsed": false
   },
   "outputs": [
    {
     "data": {
      "text/html": [
       "19"
      ],
      "text/plain": [
       "19"
      ]
     },
     "execution_count": 19,
     "metadata": {},
     "output_type": "execute_result"
    }
   ],
   "source": [
    "99 div 5. %%Integer division"
   ]
  },
  {
   "cell_type": "code",
   "execution_count": 20,
   "metadata": {
    "collapsed": false
   },
   "outputs": [
    {
     "data": {
      "text/html": [
       "19.8"
      ],
      "text/plain": [
       "19.8"
      ]
     },
     "execution_count": 20,
     "metadata": {},
     "output_type": "execute_result"
    }
   ],
   "source": [
    "99 / 5."
   ]
  },
  {
   "cell_type": "code",
   "execution_count": 21,
   "metadata": {
    "collapsed": false
   },
   "outputs": [
    {
     "data": {
      "text/html": [
       "-98234798432578455278"
      ],
      "text/plain": [
       "-98234798432578455278"
      ]
     },
     "execution_count": 21,
     "metadata": {},
     "output_type": "execute_result"
    }
   ],
   "source": [
    "893475 - 98234798432579348753."
   ]
  },
  {
   "cell_type": "markdown",
   "metadata": {},
   "source": [
    "#Errors"
   ]
  },
  {
   "cell_type": "code",
   "execution_count": 22,
   "metadata": {
    "collapsed": false
   },
   "outputs": [
    {
     "data": {
      "text/html": [
       "<pre>{badmatch,{error,{1,erl_parse,[\"syntax error before: \",\"will\"]}}}</pre>"
      ],
      "text/plain": [
       "{badmatch,{error,{1,erl_parse,[\"syntax error before: \",\"will\"]}}}"
      ]
     },
     "execution_count": 22,
     "metadata": {},
     "output_type": "execute_result"
    }
   ],
   "source": [
    "this will throw an error"
   ]
  },
  {
   "cell_type": "code",
   "execution_count": 23,
   "metadata": {
    "collapsed": false
   },
   "outputs": [
    {
     "data": {
      "text/html": [
       "<pre>function_clause</pre>"
      ],
      "text/plain": [
       "function_clause"
      ]
     },
     "execution_count": 23,
     "metadata": {},
     "output_type": "execute_result"
    }
   ],
   "source": [
    "lists:flatten(notalist)."
   ]
  },
  {
   "cell_type": "code",
   "execution_count": 24,
   "metadata": {
    "collapsed": false
   },
   "outputs": [
    {
     "data": {
      "text/html": [
       "<pre>badarith</pre>"
      ],
      "text/plain": [
       "badarith"
      ]
     },
     "execution_count": 24,
     "metadata": {},
     "output_type": "execute_result"
    }
   ],
   "source": [
    "55 div 44.3."
   ]
  },
  {
   "cell_type": "markdown",
   "metadata": {},
   "source": [
    "#Terminal Commands\n",
    "To make interacion with the terminal quicker and easier, you can run terminal commands\n",
    "\n",
    "by pre-pending `;;` before the command. For example:"
   ]
  },
  {
   "cell_type": "code",
   "execution_count": 25,
   "metadata": {
    "collapsed": false
   },
   "outputs": [
    {
     "data": {
      "text/html": [
       "<pre>/Users/oubiwann/Dropbox/lab/erlang/ierlang/notebooks<br /></pre>"
      ],
      "text/plain": [
       "/Users/oubiwann/Dropbox/lab/erlang/ierlang/notebooks\n"
      ]
     },
     "execution_count": 25,
     "metadata": {},
     "output_type": "execute_result"
    }
   ],
   "source": [
    ";;pwd"
   ]
  },
  {
   "cell_type": "code",
   "execution_count": 26,
   "metadata": {
    "collapsed": false
   },
   "outputs": [
    {
     "data": {
      "text/html": [
       "<pre>Sat Dec  6 14:09:09 CST 2014<br /></pre>"
      ],
      "text/plain": [
       "Sat Dec  6 14:09:09 CST 2014\n"
      ]
     },
     "execution_count": 26,
     "metadata": {},
     "output_type": "execute_result"
    }
   ],
   "source": [
    ";;date"
   ]
  },
  {
   "cell_type": "code",
   "execution_count": 27,
   "metadata": {
    "collapsed": false
   },
   "outputs": [
    {
     "data": {},
     "execution_count": 27,
     "metadata": {},
     "output_type": "execute_result"
    }
   ],
   "source": [
    ";;whereis ipython"
   ]
  },
  {
   "cell_type": "code",
   "execution_count": 28,
   "metadata": {
    "collapsed": false
   },
   "outputs": [
    {
     "data": {
      "text/html": [
       "<pre>PING google.com (208.65.155.55): 56 data bytes<br />64 bytes from 208.65.155.55: icmp_seq=0 ttl=60 time=7.411 ms<br />64 bytes from 208.65.155.55: icmp_seq=1 ttl=60 time=9.335 ms<br />64 bytes from 208.65.155.55: icmp_seq=2 ttl=60 time=9.045 ms<br /><br />--- google.com ping statistics ---<br />3 packets transmitted, 3 packets received, 0.0% packet loss<br />round-trip min/avg/max/stddev = 7.411/8.597/9.335/0.847 ms<br /></pre>"
      ],
      "text/plain": [
       "PING google.com (208.65.155.55): 56 data bytes\n",
       "64 bytes from 208.65.155.55: icmp_seq=0 ttl=60 time=7.411 ms\n",
       "64 bytes from 208.65.155.55: icmp_seq=1 ttl=60 time=9.335 ms\n",
       "64 bytes from 208.65.155.55: icmp_seq=2 ttl=60 time=9.045 ms\n",
       "\n",
       "--- google.com ping statistics ---\n",
       "3 packets transmitted, 3 packets received, 0.0% packet loss\n",
       "round-trip min/avg/max/stddev = 7.411/8.597/9.335/0.847 ms\n"
      ]
     },
     "execution_count": 28,
     "metadata": {},
     "output_type": "execute_result"
    }
   ],
   "source": [
    ";;ping -c 3 google.com"
   ]
  },
  {
   "cell_type": "code",
   "execution_count": 29,
   "metadata": {
    "collapsed": false
   },
   "outputs": [
    {
     "data": {
      "text/html": [
       "<pre>ierlang_demo.ipynb<br /></pre>"
      ],
      "text/plain": [
       "ierlang_demo.ipynb\n"
      ]
     },
     "execution_count": 29,
     "metadata": {},
     "output_type": "execute_result"
    }
   ],
   "source": [
    ";;ls *.ipynb"
   ]
  },
  {
   "cell_type": "markdown",
   "metadata": {},
   "source": [
    "##We can even compile erlang via the terminal commands"
   ]
  },
  {
   "cell_type": "code",
   "execution_count": 30,
   "metadata": {
    "collapsed": false
   },
   "outputs": [
    {
     "data": {},
     "execution_count": 30,
     "metadata": {},
     "output_type": "execute_result"
    }
   ],
   "source": [
    ";;erlc ../src/ierl_script.erl"
   ]
  },
  {
   "cell_type": "markdown",
   "metadata": {},
   "source": [
    ">It's possible to start the original IPython Notebook with the command \n",
    "```\n",
    ";;ipython notebook\n",
    "```\n",
    "Although, it does kill our kernel :("
   ]
  },
  {
   "cell_type": "markdown",
   "metadata": {},
   "source": [
    "#Modules"
   ]
  },
  {
   "cell_type": "markdown",
   "metadata": {},
   "source": [
    "###We can create, save and compile erlang modules\n",
    ">And if we deliberately leave an error on line 4... it will tell us...."
   ]
  },
  {
   "cell_type": "code",
   "execution_count": 31,
   "metadata": {
    "collapsed": false
   },
   "outputs": [
    {
     "data": {
      "text/html": [
       "<pre>super_awesome_module.erl:4: syntax error before: '-'<br />super_awesome_module.erl:2: function my_favorite_numbers/0 undefined<br /></pre>"
      ],
      "text/plain": [
       "super_awesome_module.erl:4: syntax error before: '-'\n",
       "super_awesome_module.erl:2: function my_favorite_numbers/0 undefined\n"
      ]
     },
     "execution_count": 31,
     "metadata": {},
     "output_type": "execute_result"
    }
   ],
   "source": [
    "-module(super_awesome_module). %%First line must begin with -module().\n",
    "-export([my_favorite_numbers/0, unlucky_number/0]).\n",
    "\n",
    "my_favorite_numbers()- %%<---------------------This is where the error is%%\n",
    "[1, 2, 3, 4, 5].\n",
    "\n",
    "unlucky_number()->\n",
    "((278346287 * 98324928374) - (829437 * 3476) - (27368378729560724309 + (2 * 2)))."
   ]
  },
  {
   "cell_type": "markdown",
   "metadata": {},
   "source": [
    ">It also tells us when things work..."
   ]
  },
  {
   "cell_type": "code",
   "execution_count": 32,
   "metadata": {
    "collapsed": false
   },
   "outputs": [
    {
     "data": {
      "text/html": [
       "<pre>Successfully Compiled</pre>"
      ],
      "text/plain": [
       "Successfully Compiled"
      ]
     },
     "execution_count": 32,
     "metadata": {},
     "output_type": "execute_result"
    }
   ],
   "source": [
    "-module(super_awesome_module). %%First line must begin with -module().\n",
    "-export([my_favorite_numbers/0, unlucky_number/0]).\n",
    "\n",
    "my_favorite_numbers()->\n",
    "[1, 2, 3, 4, 5].\n",
    "\n",
    "unlucky_number()->\n",
    "((278346287 * 98324928374) - (829437 * 3476) - (27368378729560724309 + (2 * 2)))."
   ]
  },
  {
   "cell_type": "markdown",
   "metadata": {},
   "source": [
    "###Now for the cool part\n",
    ">We can reference the exported functions from our compiled modules"
   ]
  },
  {
   "cell_type": "code",
   "execution_count": 33,
   "metadata": {
    "collapsed": false
   },
   "outputs": [
    {
     "data": {
      "text/html": [
       "[1, 2, 3, 4, 5]"
      ],
      "text/plain": [
       "[1, 2, 3, 4, 5]"
      ]
     },
     "execution_count": 33,
     "metadata": {},
     "output_type": "execute_result"
    }
   ],
   "source": [
    "super_awesome_module:my_favorite_numbers()."
   ]
  },
  {
   "cell_type": "code",
   "execution_count": 34,
   "metadata": {
    "collapsed": false
   },
   "outputs": [
    {
     "data": {
      "text/html": [
       "[5, 4, 3, 2, 1]"
      ],
      "text/plain": [
       "[5, 4, 3, 2, 1]"
      ]
     },
     "execution_count": 34,
     "metadata": {},
     "output_type": "execute_result"
    }
   ],
   "source": [
    "lists:reverse(super_awesome_module:my_favorite_numbers())."
   ]
  },
  {
   "cell_type": "code",
   "execution_count": 35,
   "metadata": {
    "collapsed": false
   },
   "outputs": [
    {
     "data": {
      "text/html": [
       "13"
      ],
      "text/plain": [
       "13"
      ]
     },
     "execution_count": 35,
     "metadata": {},
     "output_type": "execute_result"
    }
   ],
   "source": [
    "super_awesome_module:unlucky_number()."
   ]
  },
  {
   "cell_type": "code",
   "execution_count": 36,
   "metadata": {
    "collapsed": false
   },
   "outputs": [
    {
     "data": {
      "text/html": [
       "<pre><0.49.0></pre>"
      ],
      "text/plain": [
       "<0.49.0>"
      ]
     },
     "execution_count": 36,
     "metadata": {},
     "output_type": "execute_result"
    }
   ],
   "source": [
    "MyPid = spawn(super_awesome_module, unlucky_number, [])."
   ]
  },
  {
   "cell_type": "code",
   "execution_count": 37,
   "metadata": {
    "collapsed": false
   },
   "outputs": [
    {
     "data": {
      "text/html": [
       "<pre><0.49.0></pre>"
      ],
      "text/plain": [
       "<0.49.0>"
      ]
     },
     "execution_count": 37,
     "metadata": {},
     "output_type": "execute_result"
    }
   ],
   "source": [
    "MyPid."
   ]
  },
  {
   "cell_type": "markdown",
   "metadata": {},
   "source": [
    "#Outstanding Issues\n",
    "\n",
    "*As of 06 Dec 2014*"
   ]
  },
  {
   "cell_type": "markdown",
   "metadata": {},
   "source": [
    "* Cannot create notebooks outside ``ierlang/notebooks`` directory\n",
    "  * probably a good thing?\n",
    "* Having to edit the IPython code in order to parse erlang strings (lists of ints)\n",
    "    * Note that the editing of the IPython code does not affect the normal IPython in any way.\n",
    "* Not handling all of IPython's messages (yet)\n",
    "* High CPU usage of ``beam.smp`` for both console and notebook sessions\n",
    "* ~~Horrible installation and setup~~\n",
    "* ~~Project structure - it's a mess~~\n",
    "* ~~Encoding tuples inside other data structures~~\n",
    "* ~~Encoding floats inside other data structures~~\n",
    "* ~~Tuples are converted to lists when encoding~~\n",
    "* ~~**ERROR MESSAGES** - They do not appear (Something to do with pyerr on ierlang side)~~\n",
    "* ~~**No Variable bindings** (yet)~~"
   ]
  },
  {
   "cell_type": "markdown",
   "metadata": {},
   "source": [
    "#Thanks for the help"
   ]
  },
  {
   "cell_type": "markdown",
   "metadata": {},
   "source": [
    "* [Paul Barry](http://glasnost.itcarlow.ie/~barryp/) - Supervisor/Mastermind\n",
    "* [Andrew Gibiansky](http://andrew.gibiansky.com/) - IHaskell Creator\n",
    "* [Roberto Aloi](http://roberto-aloi.com/) - Erlang Sandbox Creator"
   ]
  },
  {
   "cell_type": "markdown",
   "metadata": {},
   "source": [
    "#Find me on Twitter"
   ]
  },
  {
   "cell_type": "markdown",
   "metadata": {},
   "source": [
    "##[@LynchRobbie](http://twitter.com/lynchrobbie)"
   ]
  }
 ],
 "metadata": {
  "kernelspec": {
   "display_name": "IErlang",
   "language": "Erlang",
   "name": "ierlang"
  },
  "language_info": {
   "name": "erlang",
   "version": "0.0.1"
  }
 },
 "nbformat": 4,
 "nbformat_minor": 0
}
