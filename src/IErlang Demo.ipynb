{
 "metadata": {
  "name": "",
  "signature": "sha256:3132ff6bef6d58a807b19eda4ca0ff7b0eb0120d028ea04acdb31083c02a8be2"
 },
 "nbformat": 3,
 "nbformat_minor": 0,
 "worksheets": [
  {
   "cells": [
    {
     "cell_type": "markdown",
     "metadata": {},
     "source": [
      "#Interactive Erlang Notebook Demo\n",
      "##April 16, 2014\n",
      ">Developed by [Robbie Lynch](http://roblynch.info)\n",
      "\n",
      ">Supervised by [Paul Barry](http://glasnost.itcarlow.ie/~barryp/)\n",
      "\n",
      ">Institute of Technology, Carlow, Ireland.\n",
      "\n",
      "----\n",
      "\n",
      "##Download\n",
      "Download the IErlang Kernel for IPython at http://github.com/robbielynch/ierlang\n",
      "\n",
      "---"
     ]
    },
    {
     "cell_type": "markdown",
     "metadata": {},
     "source": [
      "#Data Types"
     ]
    },
    {
     "cell_type": "code",
     "collapsed": false,
     "input": [
      "AnInt = 1234."
     ],
     "language": "python",
     "metadata": {},
     "outputs": [
      {
       "html": [
        "1234"
       ],
       "metadata": {},
       "output_type": "pyout",
       "prompt_number": 1,
       "text": [
        "1234"
       ]
      }
     ],
     "prompt_number": 1
    },
    {
     "cell_type": "code",
     "collapsed": false,
     "input": [
      "AFloat = 55 / 3."
     ],
     "language": "python",
     "metadata": {},
     "outputs": [
      {
       "html": [
        "18.3333333333"
       ],
       "metadata": {},
       "output_type": "pyout",
       "prompt_number": 2,
       "text": [
        "18.3333333333"
       ]
      }
     ],
     "prompt_number": 2
    },
    {
     "cell_type": "code",
     "collapsed": false,
     "input": [
      "AString = \"Awesome!\"."
     ],
     "language": "python",
     "metadata": {},
     "outputs": [
      {
       "html": [
        "Awesome!"
       ],
       "metadata": {},
       "output_type": "pyout",
       "prompt_number": 3,
       "text": [
        "Awesome!"
       ]
      }
     ],
     "prompt_number": 3
    },
    {
     "cell_type": "code",
     "collapsed": false,
     "input": [
      "AnAtom = 'This is an atom with spaces'."
     ],
     "language": "python",
     "metadata": {},
     "outputs": [
      {
       "html": [
        "This is an atom with spaces"
       ],
       "metadata": {},
       "output_type": "pyout",
       "prompt_number": 4,
       "text": [
        "This is an atom with spaces"
       ]
      }
     ],
     "prompt_number": 4
    },
    {
     "cell_type": "code",
     "collapsed": false,
     "input": [
      "atom_with_no_spaces."
     ],
     "language": "python",
     "metadata": {},
     "outputs": [
      {
       "html": [
        "atom_with_no_spaces"
       ],
       "metadata": {},
       "output_type": "pyout",
       "prompt_number": 5,
       "text": [
        "atom_with_no_spaces"
       ]
      }
     ],
     "prompt_number": 5
    },
    {
     "cell_type": "code",
     "collapsed": false,
     "input": [
      "{this, is, a, tuple_of_atoms}."
     ],
     "language": "python",
     "metadata": {},
     "outputs": [
      {
       "html": [
        "[u'this', u'is', u'a', u'tuple_of_atoms']"
       ],
       "metadata": {},
       "output_type": "pyout",
       "prompt_number": 6,
       "text": [
        "[u'this', u'is', u'a', u'tuple_of_atoms']"
       ]
      }
     ],
     "prompt_number": 6
    },
    {
     "cell_type": "code",
     "collapsed": false,
     "input": [
      "AList = [1,2,3,4,5]."
     ],
     "language": "python",
     "metadata": {},
     "outputs": [
      {
       "html": [
        "[1, 2, 3, 4, 5]"
       ],
       "metadata": {},
       "output_type": "pyout",
       "prompt_number": 7,
       "text": [
        "[1, 2, 3, 4, 5]"
       ]
      }
     ],
     "prompt_number": 7
    },
    {
     "cell_type": "markdown",
     "metadata": {},
     "source": [
      "#Variable Bindings\n",
      "i.e. Referring to previously assigned variables."
     ]
    },
    {
     "cell_type": "code",
     "collapsed": false,
     "input": [
      "AVariable = 100."
     ],
     "language": "python",
     "metadata": {},
     "outputs": [
      {
       "html": [
        "100"
       ],
       "metadata": {},
       "output_type": "pyout",
       "prompt_number": 8,
       "text": [
        "100"
       ]
      }
     ],
     "prompt_number": 8
    },
    {
     "cell_type": "code",
     "collapsed": false,
     "input": [
      "AnotherVar = 77."
     ],
     "language": "python",
     "metadata": {},
     "outputs": [
      {
       "html": [
        "77"
       ],
       "metadata": {},
       "output_type": "pyout",
       "prompt_number": 9,
       "text": [
        "77"
       ]
      }
     ],
     "prompt_number": 9
    },
    {
     "cell_type": "code",
     "collapsed": false,
     "input": [
      "AVariable + AnotherVar."
     ],
     "language": "python",
     "metadata": {},
     "outputs": [
      {
       "html": [
        "177"
       ],
       "metadata": {},
       "output_type": "pyout",
       "prompt_number": 10,
       "text": [
        "177"
       ]
      }
     ],
     "prompt_number": 10
    },
    {
     "cell_type": "code",
     "collapsed": false,
     "input": [
      "NedStark = [[]|[AnotherVar + AVariable]]."
     ],
     "language": "python",
     "metadata": {},
     "outputs": [
      {
       "html": [
        "[[], 177]"
       ],
       "metadata": {},
       "output_type": "pyout",
       "prompt_number": 11,
       "text": [
        "[[], 177]"
       ]
      }
     ],
     "prompt_number": 11
    },
    {
     "cell_type": "code",
     "collapsed": false,
     "input": [
      "NedStark."
     ],
     "language": "python",
     "metadata": {},
     "outputs": [
      {
       "html": [
        "[[], 177]"
       ],
       "metadata": {},
       "output_type": "pyout",
       "prompt_number": 12,
       "text": [
        "[[], 177]"
       ]
      }
     ],
     "prompt_number": 12
    },
    {
     "cell_type": "markdown",
     "metadata": {},
     "source": [
      "#Built in Functions"
     ]
    },
    {
     "cell_type": "code",
     "collapsed": false,
     "input": [
      "lists:sort([10,9,8,3,5,4,6,1,7,2])."
     ],
     "language": "python",
     "metadata": {},
     "outputs": [
      {
       "html": [
        "[1, 2, 3, 4, 5, 6, 7, 8, 9, 10]"
       ],
       "metadata": {},
       "output_type": "pyout",
       "prompt_number": 13,
       "text": [
        "[1, 2, 3, 4, 5, 6, 7, 8, 9, 10]"
       ]
      }
     ],
     "prompt_number": 13
    },
    {
     "cell_type": "code",
     "collapsed": false,
     "input": [
      "io:format(\"hello\")."
     ],
     "language": "python",
     "metadata": {},
     "outputs": [
      {
       "html": [
        "ok"
       ],
       "metadata": {},
       "output_type": "pyout",
       "prompt_number": 14,
       "text": [
        "ok"
       ]
      }
     ],
     "prompt_number": 14
    },
    {
     "cell_type": "code",
     "collapsed": false,
     "input": [
      "is_integer(4325345)."
     ],
     "language": "python",
     "metadata": {},
     "outputs": [
      {
       "html": [
        "True"
       ],
       "metadata": {},
       "output_type": "pyout",
       "prompt_number": 15,
       "text": [
        "True"
       ]
      }
     ],
     "prompt_number": 15
    },
    {
     "cell_type": "code",
     "collapsed": false,
     "input": [
      "os:cmd(\"pwd\")."
     ],
     "language": "python",
     "metadata": {},
     "outputs": [
      {
       "html": [
        "/home/robbie/dev/ierlang/src<br />"
       ],
       "metadata": {},
       "output_type": "pyout",
       "prompt_number": 16,
       "text": [
        "/home/robbie/dev/ierlang/src\n"
       ]
      }
     ],
     "prompt_number": 16
    },
    {
     "cell_type": "code",
     "collapsed": false,
     "input": [
      "is_binary(<<\"Hello\">>)."
     ],
     "language": "python",
     "metadata": {},
     "outputs": [
      {
       "html": [
        "True"
       ],
       "metadata": {},
       "output_type": "pyout",
       "prompt_number": 17,
       "text": [
        "True"
       ]
      }
     ],
     "prompt_number": 17
    },
    {
     "cell_type": "markdown",
     "metadata": {},
     "source": [
      "#Expressions"
     ]
    },
    {
     "cell_type": "code",
     "collapsed": false,
     "input": [
      "9283479238472398472398472394872398 * 28347632847623847623847623847623847623847632874623864."
     ],
     "language": "python",
     "metadata": {},
     "outputs": [
      {
       "html": [
        "263164661000754185502995313263072243291280523500406936157710040110469708162166525705872"
       ],
       "metadata": {},
       "output_type": "pyout",
       "prompt_number": 18,
       "text": [
        "263164661000754185502995313263072243291280523500406936157710040110469708162166525705872"
       ]
      }
     ],
     "prompt_number": 18
    },
    {
     "cell_type": "code",
     "collapsed": false,
     "input": [
      "99 div 5. %%Integer division"
     ],
     "language": "python",
     "metadata": {},
     "outputs": [
      {
       "html": [
        "19"
       ],
       "metadata": {},
       "output_type": "pyout",
       "prompt_number": 19,
       "text": [
        "19"
       ]
      }
     ],
     "prompt_number": 19
    },
    {
     "cell_type": "code",
     "collapsed": false,
     "input": [
      "99 / 5."
     ],
     "language": "python",
     "metadata": {},
     "outputs": [
      {
       "html": [
        "19.8"
       ],
       "metadata": {},
       "output_type": "pyout",
       "prompt_number": 20,
       "text": [
        "19.8"
       ]
      }
     ],
     "prompt_number": 20
    },
    {
     "cell_type": "code",
     "collapsed": false,
     "input": [
      "893475 - 98234798432579348753."
     ],
     "language": "python",
     "metadata": {},
     "outputs": [
      {
       "html": [
        "-98234798432578455278"
       ],
       "metadata": {},
       "output_type": "pyout",
       "prompt_number": 21,
       "text": [
        "-98234798432578455278"
       ]
      }
     ],
     "prompt_number": 21
    },
    {
     "cell_type": "markdown",
     "metadata": {},
     "source": [
      "#Terminal Commands\n",
      "To make interacion with the terminal quicker and easier, you can run terminal commands\n",
      "\n",
      "by pre-pending `;;` before the command. For example:"
     ]
    },
    {
     "cell_type": "code",
     "collapsed": false,
     "input": [
      ";;pwd"
     ],
     "language": "python",
     "metadata": {},
     "outputs": [
      {
       "html": [
        "/home/robbie/dev/ierlang/src<br />"
       ],
       "metadata": {},
       "output_type": "pyout",
       "prompt_number": 22,
       "text": [
        "/home/robbie/dev/ierlang/src\n"
       ]
      }
     ],
     "prompt_number": 22
    },
    {
     "cell_type": "code",
     "collapsed": false,
     "input": [
      ";;date"
     ],
     "language": "python",
     "metadata": {},
     "outputs": [
      {
       "html": [
        "Wed Apr 16 22:44:50 BST 2014<br />"
       ],
       "metadata": {},
       "output_type": "pyout",
       "prompt_number": 23,
       "text": [
        "Wed Apr 16 22:44:50 BST 2014\n"
       ]
      }
     ],
     "prompt_number": 23
    },
    {
     "cell_type": "code",
     "collapsed": false,
     "input": [
      ";;whereis ipython"
     ],
     "language": "python",
     "metadata": {},
     "outputs": [
      {
       "html": [
        "ipython: /usr/bin/ipython2.7 /usr/bin/X11/ipython2.7 /usr/local/bin/ipython /usr/share/man/man1/ipython.1.gz<br />"
       ],
       "metadata": {},
       "output_type": "pyout",
       "prompt_number": 24,
       "text": [
        "ipython: /usr/bin/ipython2.7 /usr/bin/X11/ipython2.7 /usr/local/bin/ipython /usr/share/man/man1/ipython.1.gz\n"
       ]
      }
     ],
     "prompt_number": 24
    },
    {
     "cell_type": "code",
     "collapsed": false,
     "input": [
      ";;ping -c 5 google.com"
     ],
     "language": "python",
     "metadata": {},
     "outputs": [
      {
       "html": [
        "PING google.com (74.125.24.102) 56(84) bytes of data.<br />64 bytes from de-in-f102.1e100.net (74.125.24.102): icmp_req=1 ttl=43 time=410 ms<br />64 bytes from de-in-f102.1e100.net (74.125.24.102): icmp_req=2 ttl=43 time=492 ms<br />64 bytes from de-in-f102.1e100.net (74.125.24.102): icmp_req=3 ttl=43 time=66.4 ms<br />64 bytes from de-in-f102.1e100.net (74.125.24.102): icmp_req=4 ttl=43 time=91.3 ms<br />64 bytes from de-in-f102.1e100.net (74.125.24.102): icmp_req=5 ttl=43 time=80.1 ms<br /><br />--- google.com ping statistics ---<br />5 packets transmitted, 5 received, 0% packet loss, time 4002ms<br />rtt min/avg/max/mdev = 66.446/228.243/492.718/184.401 ms<br />"
       ],
       "metadata": {},
       "output_type": "pyout",
       "prompt_number": 25,
       "text": [
        "PING google.com (74.125.24.102) 56(84) bytes of data.\n",
        "64 bytes from de-in-f102.1e100.net (74.125.24.102): icmp_req=1 ttl=43 time=410 ms\n",
        "64 bytes from de-in-f102.1e100.net (74.125.24.102): icmp_req=2 ttl=43 time=492 ms\n",
        "64 bytes from de-in-f102.1e100.net (74.125.24.102): icmp_req=3 ttl=43 time=66.4 ms\n",
        "64 bytes from de-in-f102.1e100.net (74.125.24.102): icmp_req=4 ttl=43 time=91.3 ms\n",
        "64 bytes from de-in-f102.1e100.net (74.125.24.102): icmp_req=5 ttl=43 time=80.1 ms\n",
        "\n",
        "--- google.com ping statistics ---\n",
        "5 packets transmitted, 5 received, 0% packet loss, time 4002ms\n",
        "rtt min/avg/max/mdev = 66.446/228.243/492.718/184.401 ms\n"
       ]
      }
     ],
     "prompt_number": 25
    },
    {
     "cell_type": "code",
     "collapsed": false,
     "input": [
      ";;ls mochi*"
     ],
     "language": "python",
     "metadata": {},
     "outputs": [
      {
       "html": [
        "mochijson2.beam<br />mochijson2.erl<br />mochinum.beam<br />mochinum.erl<br />"
       ],
       "metadata": {},
       "output_type": "pyout",
       "prompt_number": 26,
       "text": [
        "mochijson2.beam\n",
        "mochijson2.erl\n",
        "mochinum.beam\n",
        "mochinum.erl\n"
       ]
      }
     ],
     "prompt_number": 26
    },
    {
     "cell_type": "markdown",
     "metadata": {},
     "source": [
      "##We can even compile erlang via the terminal commands"
     ]
    },
    {
     "cell_type": "code",
     "collapsed": false,
     "input": [
      ";;erlc mochijson2.erl"
     ],
     "language": "python",
     "metadata": {},
     "outputs": [
      {
       "metadata": {},
       "output_type": "pyout",
       "prompt_number": 27
      }
     ],
     "prompt_number": 27
    },
    {
     "cell_type": "markdown",
     "metadata": {},
     "source": [
      ">It's possible to start the original IPython Notebook with the command \n",
      "```\n",
      ";;ipython notebook\n",
      "```\n",
      "Although, it does kill our kernel :("
     ]
    },
    {
     "cell_type": "markdown",
     "metadata": {},
     "source": [
      "#Modules"
     ]
    },
    {
     "cell_type": "markdown",
     "metadata": {},
     "source": [
      "###We can create, save and compile erlang modules\n",
      ">And if we deliberatly leave an error on line 4... it will tell us...."
     ]
    },
    {
     "cell_type": "code",
     "collapsed": false,
     "input": [
      "-module(super_awesome_module). %%First line must begin with -module().\n",
      "-export([my_favorite_numbers/0, unlucky_number/0]).\n",
      "\n",
      "my_favorite_numbers()- %%<---------------------This is where the error is%%\n",
      "[1, 2, 3, 4, 5].\n",
      "\n",
      "unlucky_number()->\n",
      "((278346287 * 98324928374) - (829437 * 3476) - (27368378729560724309 + (2 * 2)))."
     ],
     "language": "python",
     "metadata": {},
     "outputs": [
      {
       "html": [
        "super_awesome_module.erl:4: syntax error before: '-'<br />super_awesome_module.erl:2: function my_favorite_numbers/0 undefined<br />"
       ],
       "metadata": {},
       "output_type": "pyout",
       "prompt_number": 28,
       "text": [
        "super_awesome_module.erl:4: syntax error before: '-'\n",
        "super_awesome_module.erl:2: function my_favorite_numbers/0 undefined\n"
       ]
      }
     ],
     "prompt_number": 28
    },
    {
     "cell_type": "markdown",
     "metadata": {},
     "source": [
      ">It also tells us when things work..."
     ]
    },
    {
     "cell_type": "code",
     "collapsed": false,
     "input": [
      "-module(super_awesome_module). %%First line must begin with -module().\n",
      "-export([my_favorite_numbers/0, unlucky_number/0]).\n",
      "\n",
      "my_favorite_numbers()->\n",
      "[1, 2, 3, 4, 5].\n",
      "\n",
      "unlucky_number()->\n",
      "((278346287 * 98324928374) - (829437 * 3476) - (27368378729560724309 + (2 * 2)))."
     ],
     "language": "python",
     "metadata": {},
     "outputs": [
      {
       "html": [
        "Successfully Compiled"
       ],
       "metadata": {},
       "output_type": "pyout",
       "prompt_number": 29,
       "text": [
        "Successfully Compiled"
       ]
      }
     ],
     "prompt_number": 29
    },
    {
     "cell_type": "markdown",
     "metadata": {},
     "source": [
      "###Now for the cool part\n",
      ">We can reference the exported functions from our compiled modules"
     ]
    },
    {
     "cell_type": "code",
     "collapsed": false,
     "input": [
      "super_awesome_module:my_favorite_numbers()."
     ],
     "language": "python",
     "metadata": {},
     "outputs": [
      {
       "html": [
        "[1, 2, 3, 4, 5]"
       ],
       "metadata": {},
       "output_type": "pyout",
       "prompt_number": 30,
       "text": [
        "[1, 2, 3, 4, 5]"
       ]
      }
     ],
     "prompt_number": 30
    },
    {
     "cell_type": "code",
     "collapsed": false,
     "input": [
      "lists:reverse(super_awesome_module:my_favorite_numbers())."
     ],
     "language": "python",
     "metadata": {},
     "outputs": [
      {
       "html": [
        "[5, 4, 3, 2, 1]"
       ],
       "metadata": {},
       "output_type": "pyout",
       "prompt_number": 31,
       "text": [
        "[5, 4, 3, 2, 1]"
       ]
      }
     ],
     "prompt_number": 31
    },
    {
     "cell_type": "code",
     "collapsed": false,
     "input": [
      "super_awesome_module:unlucky_number()."
     ],
     "language": "python",
     "metadata": {},
     "outputs": [
      {
       "html": [
        "13"
       ],
       "metadata": {},
       "output_type": "pyout",
       "prompt_number": 32,
       "text": [
        "13"
       ]
      }
     ],
     "prompt_number": 32
    },
    {
     "cell_type": "code",
     "collapsed": false,
     "input": [
      "spawn(super_awesome_module, unlucky_number, [])."
     ],
     "language": "python",
     "metadata": {},
     "outputs": [
      {
       "html": [
        "<0.49.0>"
       ],
       "metadata": {},
       "output_type": "pyout",
       "prompt_number": 33,
       "text": [
        "<0.49.0>"
       ]
      }
     ],
     "prompt_number": 33
    },
    {
     "cell_type": "markdown",
     "metadata": {},
     "source": [
      "#Some Problems\n",
      "####as of April 16, 2014"
     ]
    },
    {
     "cell_type": "markdown",
     "metadata": {},
     "source": [
      "* Encoding tuples inside other data structures\n",
      "* ~~Encoding floats inside other data structures~~\n",
      "* **ERROR MESSAGES** - They do not appear (Something to do with pyerr on ierlang side)\n",
      "* Cannot create notebooks outside ierlang/src directory\n",
      "* Horrible installation and setup\n",
      "* Having to edit the IPython code in order to parse erlang strings (lists of ints)\n",
      "    * Note that the editing of the IPython code does not affect the normal IPython in any way.\n",
      "* ~~**No Variable bindings** (yet)~~\n",
      "* Tuples are converted to lists when encoding\n",
      "* Project structure - it's a mess\n",
      "* Not handling all of IPython's messages (yet)"
     ]
    },
    {
     "cell_type": "markdown",
     "metadata": {},
     "source": [
      "#Thanks for the help"
     ]
    },
    {
     "cell_type": "markdown",
     "metadata": {},
     "source": [
      "* [Paul Barry](http://glasnost.itcarlow.ie/~barryp/) - Supervisor/Mastermind\n",
      "* [Andrew Gibiansky](http://andrew.gibiansky.com/) - IHaskell Creator\n",
      "* [Roberto Aloi](http://roberto-aloi.com/) - Erlang Sandbox Creator"
     ]
    },
    {
     "cell_type": "markdown",
     "metadata": {},
     "source": [
      "#Find me on Twitter"
     ]
    },
    {
     "cell_type": "markdown",
     "metadata": {},
     "source": [
      "##[@LynchRobbie](http://twitter.com/lynchrobbie)"
     ]
    }
   ],
   "metadata": {}
  }
 ]
}