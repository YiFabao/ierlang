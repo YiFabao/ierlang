{
 "metadata": {
  "name": "",
  "signature": "sha256:966cbf0d6ea7c6c0e35e2cd326925f2b974fcb130a404f57aca767368da9f6f6"
 },
 "nbformat": 3,
 "nbformat_minor": 0,
 "worksheets": [
  {
   "cells": [
    {
     "cell_type": "code",
     "collapsed": false,
     "input": [
      "lists:sort([3,2,1])."
     ],
     "language": "python",
     "metadata": {},
     "outputs": [
      {
       "html": [
        "[1, 2, 3]"
       ],
       "metadata": {},
       "output_type": "pyout",
       "prompt_number": 1,
       "text": [
        "[1, 2, 3]"
       ]
      }
     ],
     "prompt_number": 1
    },
    {
     "cell_type": "code",
     "collapsed": false,
     "input": [
      "-module(rex).\n",
      "-include_lib(\"eunit/include/eunit.hrl\").\n",
      "-export ([parse/1,eval/1,rexify/1,shuntingYard/3,stack/2]).\n",
      "\n",
      "\n",
      "\n",
      "%DONE Evaluation funtions\n",
      "eval({int, X}) -> X;\n",
      "eval({unOp, _, Y}) -> -eval(Y);\n",
      "eval({binOp, add, L, R}) -> eval(L) + eval(R);\n",
      "eval({binOp, sub, L, R}) -> eval(L) - eval(R);\n",
      "eval({binOp, divide, L, R}) -> eval(L) / eval(R);\n",
      "eval({binOp, multiply, L, R}) -> eval(L) * eval(R).\n",
      "\n",
      "rexify(S)->\n",
      "\tTokens = lists:flatten([parse(S)]),\n",
      "\tRPNExpression = shuntingYard(Tokens, [], []),\n",
      "\t{ok, {int, Answer}, _} = evalRPN(RPNExpression, []),\n",
      "\tAnswer.\n",
      "\n",
      "\n",
      "%Take as input a String\n",
      "parse([]) -> [];\n",
      "parse([H|T]) when H =:= $~ ->\n",
      "\tlists:append([{unOp, minus}], parse(T));\n",
      "%If token is a space just ignore it\n",
      "parse([H|T]) when H =:= 32 ->\n",
      "\tparse(T);\n",
      "%Operands - if token is operand, add to parsed list\n",
      "parse([H|T]) when H =:= $+ ->\n",
      "\tlists:append([{binOp, add,2}], parse(T));\n",
      "parse([H|T]) when H =:= $- ->\n",
      "\tlists:append([{binOp, sub,2}], parse(T));\n",
      "parse([H|T]) when H =:= $* ->\n",
      "\tlists:append([{binOp, multiply,3}], parse(T));\n",
      "parse([H|T]) when H =:= $/ ->\n",
      "\tlists:append([{binOp, divide,3}], parse(T));\n",
      "parse([H|T]) when H =:= $( ->\n",
      "\tlists:append([{bracket, left}], parse(T));\n",
      "parse([H|T]) when H =:= $) ->\n",
      "\tlists:append([{bracket, right}], parse(T));\n",
      "parse([H, H2|T]) when (H > 47) and (H < 58) and (H2 > 47) and (H2 < 58) ->\n",
      "\t{ok, Integer, Tail} = getInt([H,H2|T], []),\n",
      "\tlists:append([{int, Integer}],\n",
      "\tparse(Tail));\n",
      "parse([H|T]) when (H > 47) and (H < 58) ->\n",
      "\tlists:append([{int, H-48}], parse(T)).\n",
      "\n",
      "%Extracts an integer from an string and returns the remaining string\n",
      "getInt([], Accum)->\n",
      "\t{ok, Accum, []};\n",
      "getInt([H|T], Accum) when (H > 47) and (H < 58) ->\n",
      "\tInteger = Accum ++ [H],\n",
      "\tgetInt(T, Integer);\n",
      "getInt([H|T], Accum)->\n",
      "\t{ok, Accum, [H|T]}.\n",
      "\n",
      "\n",
      "\n",
      "%Number, push to output queue\n",
      "shuntingYard([{int, Integer} | T], Stack, OutputQueue)->\n",
      "\terlang:display(\"shuntingYard Number\\n\"),\n",
      "\t% NewOutputQueue = [OutputQueue | {int, Integer}],\n",
      "\tNewOutputQueue =  OutputQueue ++ [{int, Integer}],\n",
      "\tshuntingYard(T, Stack, NewOutputQueue);\n",
      "\n",
      "%Operator - When TokenOp <= StakOp precedence - pop off stack and put it in the output queue, put tokenOp on stack\n",
      "shuntingYard([{binOp, TokenOp, Precedence} | T], [{binOp,StackOp,StackHeadPrec} | StackTail],  OutputQueue) when (Precedence =< StackHeadPrec) ->\n",
      "\terlang:display(\"shuntingYard Operator\\n\"),\n",
      "\t%pop op off stack and put it in output queue\n",
      "\tshuntingYard(T, [{binOp, TokenOp, Precedence}] ++ [StackTail], OutputQueue ++ [{binOp,StackOp,StackHeadPrec}]);\n",
      "%Operator - when token is op and stack head is op AND stackOp has > precedence - push TokenOp\n",
      "shuntingYard([{binOp, TokenOp, Precedence} | T], [{binOp,StackOp,StackHeadPrec} | StackTail],  OutputQueue) ->\n",
      "\terlang:display(\"shuntingYard Operator\\n\"),\n",
      "\t%push op to stack\n",
      "\tshuntingYard(T, [{binOp, TokenOp, Precedence},{binOp,StackOp,StackHeadPrec}] ++ StackTail, OutputQueue);\n",
      "%Operator without operator on stack - push op to stack\n",
      "shuntingYard([{binOp, TokenOp, Precedence} | T], Stack,  OutputQueue) ->\n",
      "\terlang:display(\"shuntingYard Operator\\n\"),\n",
      "\t%push op to stack\n",
      "\tshuntingYard(T, [{binOp, TokenOp, Precedence}] ++ Stack, OutputQueue);\n",
      "\n",
      "%Left bracket Push to stack\n",
      "shuntingYard([{bracket,left} | T], Stack,  OutputQueue)->\n",
      "\terlang:display(\"shuntingYard LB\\n\"),\n",
      "\tshuntingYard(T, [{bracket,left}] ++ Stack, OutputQueue);\n",
      "%Rigth bracket\n",
      "shuntingYard([{bracket,right} | T], Stack,  OutputQueue)->\n",
      "\terlang:display(\"shuntingYard RB\\n\"),\n",
      "\t{NewTokens,NewStack,NewOutputQueue} = popFromStackUntilLeftBracketFound(T, Stack,  OutputQueue),\n",
      "\tshuntingYard(NewTokens,NewStack,NewOutputQueue);\n",
      "%No more tokens left. Pop all from stack onto output queue\n",
      "shuntingYard([],[StackHead | StackTail],OutputQueue)->\n",
      "\terlang:display(\"shuntingYard No tokens left\\n\"),\n",
      "\tshuntingYard([], StackTail, OutputQueue ++ [StackHead]);\n",
      "%Empty tokens and empty stack - return the output queue\n",
      "shuntingYard([],[],OutputQueue)->\n",
      "\tOutputQueue.\n",
      "\n",
      "\n",
      "popFromStackUntilLeftBracketFound(Tokens, [{bracket,left} | StackTail], OutputQueue)->\n",
      "\t{Tokens, StackTail, OutputQueue};\n",
      "popFromStackUntilLeftBracketFound(Tokens, [StackHead | StackTail], OutputQueue)->\n",
      "\tpopFromStackUntilLeftBracketFound(Tokens, StackTail, OutputQueue ++ [StackHead]).\n",
      "\n",
      "\n",
      "\n",
      "\n",
      "evalRPN([],Stack)->\n",
      "\tstack(pop, Stack);\n",
      "%If token is number, push to stack\n",
      "evalRPN([{int, Value} | T], Stack)->\n",
      "\terlang:display(Stack),\n",
      "\tevalRPN(T, [{int, Value}] ++ Stack);\n",
      "%If operator\n",
      "evalRPN([{binOp, Operator, _} | T], Stack)->\n",
      "\t% {ok, PoppedValue1, NewStack1} = stack(pop, Stack),\n",
      "\t% {ok, PoppedValue2, NewStack2} = stack(pop, NewStack1),\n",
      "\t{ok, Sum, NewStack3} = stack(Operator, Stack),\n",
      "\t{ok, NewStack4} = stack({push, Sum}, NewStack3),\n",
      "\tevalRPN(T, NewStack4).\n",
      "\n",
      "\n",
      "\n",
      "stack({push, Value}, StackList)->\n",
      "\t{ok, [Value] ++ StackList};\n",
      "stack(add, [{int, Value1},{int, Value2} | StackTail])->\n",
      "\tSum = {int, Value1 + Value2},\n",
      "\t{ok, Sum, StackTail};\n",
      "stack(sub, [{int, Value1},{int, Value2} | StackTail])->\n",
      "\tSum = {int, Value1 - Value2},\n",
      "\t{ok, Sum, StackTail};\n",
      "stack(divide, [{int, Value1},{int, Value2} | StackTail])->\n",
      "\tSum = {int, Value2 / Value1},\n",
      "\t{ok, Sum, StackTail};\n",
      "stack(multiply, [{int, Value1},{int, Value2} | StackTail])->\n",
      "\tcase is_integer(Value1) of\n",
      "\t\tfalse -> V1 = list_to_integer(Value1);\n",
      "\t\t_ -> V1 = Value1\n",
      "\tend,%%%-------------------------------------------------------------------\n",
      "%%% @author Robbie <robbie.lynch@outlook.com>\n",
      "%%% @copyright (C) 2013, Robbie Lynch\n",
      "%%% @doc This module takes as an argument, one string and evaluates the\n",
      "%%% erlang expression.\n",
      "%%%\n",
      "%%% @end\n",
      "%%% Created :  8 Oct 2013 by Robbie <robbie.lynch@outlook.com>\n",
      "%%%-------------------------------------------------------------------\n",
      "\tcase is_integer(Value2) of\n",
      "\t\tfalse -> V2 = list_to_integer(Value2);\n",
      "\t\t_ -> V2 = Value2\n",
      "\tend,\n",
      "\tValues = V1 * V2,\n",
      "\tSum = {int, Values},\n",
      "\t{ok, Sum, StackTail};\n",
      "stack(pop, [StackHead | StackTail])->\n",
      "\t{ok, StackHead, StackTail};\n",
      "stack(pop, [])->\n",
      "\t{error, emptyStack}.\n",
      "\n",
      "\n",
      "stack_test_()->\n",
      "\t[\n",
      "\t\t?_assert(stack({push, 5}, []) =:= {ok, [5]}),\n",
      "\t\t?_assert(stack({push, 5}, [5]) =:= {ok, [5,5]}),\n",
      "\t\t?_assert(stack({push, 2}, [5,5]) =:= {ok, [2,5,5]}),\n",
      "\t\t?_assert(stack(pop, [5,6,7]) =:= {ok, 5, [6,7]}),\n",
      "\t\t?_assert(stack(pop, [5]) =:= {ok, 5, []}),\n",
      "\t\t?_assert(stack(pop, []) =:= {error, emptyStack}),\n",
      "\t\t?_assert(stack(sub, [{int, 10},{int, 8}]) =:= {ok, {int,2}, []}),\n",
      "\t\t?_assert(stack(add, [{int, 10},{int, 8}]) =:= {ok, {int,18}, []}),\n",
      "\t\t?_assert(stack(multiply, [{int, 10},{int, 8}]) =:= {ok, {int,80}, []}),\n",
      "\t\t?_assert(stack(divide, [{int, 4},{int, 8}]) =:= {ok, {int,2.0}, []}),\n",
      "\t\t?_assert(stack(divide, [{int, 4},{int, 8} | [{int, 40}, {int, 9}, {binOp, add}]]) =:= {ok, {int,2.0}, [{int, 40}, {int, 9}, {binOp, add}]})\n",
      "\n",
      "\t]."
     ],
     "language": "python",
     "metadata": {},
     "outputs": [
      {
       "html": [
        "Successfully Compiled"
       ],
       "metadata": {},
       "output_type": "pyout",
       "prompt_number": 3,
       "text": [
        "Successfully Compiled"
       ]
      }
     ],
     "prompt_number": 3
    },
    {
     "cell_type": "code",
     "collapsed": false,
     "input": [
      "rex:rexify(\"(5*5)\")."
     ],
     "language": "python",
     "metadata": {},
     "outputs": [
      {
       "html": [
        "25"
       ],
       "metadata": {},
       "output_type": "pyout",
       "prompt_number": 1,
       "text": [
        "25"
       ]
      }
     ],
     "prompt_number": 1
    },
    {
     "cell_type": "code",
     "collapsed": false,
     "input": [
      "rex:rexify(\"(5*5)\")."
     ],
     "language": "python",
     "metadata": {},
     "outputs": [
      {
       "html": [
        "25"
       ],
       "metadata": {},
       "output_type": "pyout",
       "prompt_number": 5,
       "text": [
        "25"
       ]
      }
     ],
     "prompt_number": 5
    },
    {
     "cell_type": "markdown",
     "metadata": {},
     "source": [
      "<iframe src=\"https://embed.spotify.com/?uri=spotify:track:23PJY70rydGYINeC4Anfnu\" width=\"100%\" height=\"600\" frameborder=\"0\" allowtransparency=\"true\"></iframe>"
     ]
    },
    {
     "cell_type": "code",
     "collapsed": false,
     "input": [
      ";;ls"
     ],
     "language": "python",
     "metadata": {},
     "outputs": [
      {
       "html": [
        "code_manager.beam<br />code_manager.erl<br />control.beam<br />control.erl<br />example.beam<br />example.erl<br />heartbeat.beam<br />heartbeat.erl<br />hi.beam<br />hi.erl<br />IErlang April 13, 2014.ipynb<br />IErlang Example.ipynb<br />IErlangModules.ipynb<br />ipython_edited_files<br />ipython_kernel.erl<br />kernel-3623.json<br />Marv.ipynb<br />message_builder.beam<br />message_builder.erl<br />message_parser.beam<br />message_parser.erl<br />message_sender.beam<br />message_sender.erl<br />mochijson2.beam<br />mochijson2.erl<br />pwd<br />rex.beam<br />rex.erl<br />Rex.ipynb<br />Richie.ipynb<br />shell.beam<br />shell.erl<br />start-ierl-console.sh<br />start-ierl-notebook.sh<br />start-ierl-notebook.sh~<br />start-ierl-qtconsole.sh<br />start-ierl-qtconsole.sh~<br />super_awesome_module.beam<br />super_awesome_module.erl<br />tester.beam<br />tester.erl<br />uuid.beam<br />uuid.erl<br />whatupppp.erl<br />zmq_manager.beam<br />zmq_manager.erl<br />"
       ],
       "metadata": {},
       "output_type": "pyout",
       "prompt_number": 5,
       "text": [
        "code_manager.beam\n",
        "code_manager.erl\n",
        "control.beam\n",
        "control.erl\n",
        "example.beam\n",
        "example.erl\n",
        "heartbeat.beam\n",
        "heartbeat.erl\n",
        "hi.beam\n",
        "hi.erl\n",
        "IErlang April 13, 2014.ipynb\n",
        "IErlang Example.ipynb\n",
        "IErlangModules.ipynb\n",
        "ipython_edited_files\n",
        "ipython_kernel.erl\n",
        "kernel-3623.json\n",
        "Marv.ipynb\n",
        "message_builder.beam\n",
        "message_builder.erl\n",
        "message_parser.beam\n",
        "message_parser.erl\n",
        "message_sender.beam\n",
        "message_sender.erl\n",
        "mochijson2.beam\n",
        "mochijson2.erl\n",
        "pwd\n",
        "rex.beam\n",
        "rex.erl\n",
        "Rex.ipynb\n",
        "Richie.ipynb\n",
        "shell.beam\n",
        "shell.erl\n",
        "start-ierl-console.sh\n",
        "start-ierl-notebook.sh\n",
        "start-ierl-notebook.sh~\n",
        "start-ierl-qtconsole.sh\n",
        "start-ierl-qtconsole.sh~\n",
        "super_awesome_module.beam\n",
        "super_awesome_module.erl\n",
        "tester.beam\n",
        "tester.erl\n",
        "uuid.beam\n",
        "uuid.erl\n",
        "whatupppp.erl\n",
        "zmq_manager.beam\n",
        "zmq_manager.erl\n"
       ]
      }
     ],
     "prompt_number": 5
    },
    {
     "cell_type": "code",
     "collapsed": false,
     "input": [
      ";;whereis erl"
     ],
     "language": "python",
     "metadata": {},
     "outputs": [
      {
       "html": [
        "erl: /usr/bin/erl /usr/bin/X11/erl /usr/share/man/man1/erl.1.gz<br />"
       ],
       "metadata": {},
       "output_type": "pyout",
       "prompt_number": 6,
       "text": [
        "erl: /usr/bin/erl /usr/bin/X11/erl /usr/share/man/man1/erl.1.gz\n"
       ]
      }
     ],
     "prompt_number": 6
    },
    {
     "cell_type": "code",
     "collapsed": false,
     "input": [
      "ls -l"
     ],
     "language": "python",
     "metadata": {},
     "outputs": [
      {
       "ename": "error dude",
       "evalue": "ERROR DUDE",
       "output_type": "pyerr",
       "traceback": []
      }
     ],
     "prompt_number": 7
    },
    {
     "cell_type": "code",
     "collapsed": false,
     "input": [
      ";;ls -l"
     ],
     "language": "python",
     "metadata": {},
     "outputs": [
      {
       "html": [
        "total 280<br />-rw-rw-r-- 1 robbie robbie  2352 Apr 13 22:53 code_manager.beam<br />-rwxrwxr-x 1 robbie robbie  3188 Apr 13 21:57 code_manager.erl<br />-rw-rw-r-- 1 robbie robbie   844 Apr 13 22:53 control.beam<br />-rwxrwxrwx 1 robbie robbie   699 Apr  3 12:28 control.erl<br />-rw-rw-r-- 1 robbie robbie   616 Apr 11 22:39 example.beam<br />-rw-rw-r-- 1 robbie robbie    54 Apr 11 22:39 example.erl<br />-rw-rw-r-- 1 robbie robbie   860 Apr 13 22:53 heartbeat.beam<br />-rwxrwxrwx 1 robbie robbie   978 Apr  3 12:28 heartbeat.erl<br />-rw-rw-r-- 1 robbie robbie   564 Apr 13 22:43 hi.beam<br />-rw-rw-r-- 1 robbie robbie    41 Apr 13 20:55 hi.erl<br />-rw-rw-r-- 1 robbie robbie  9629 Apr 13 22:50 IErlang April 13, 2014.ipynb<br />-rw-rw-r-- 1 robbie robbie  4950 Apr 10 11:27 IErlang Example.ipynb<br />-rw-rw-r-- 1 robbie robbie  3653 Apr 11 23:08 IErlangModules.ipynb<br />drwxrwxr-x 2 robbie robbie  4096 Apr 13 22:20 ipython_edited_files<br />-rwxrwxrwx 1 robbie robbie  2351 Apr  8 16:10 ipython_kernel.erl<br />-rw-rw-r-- 1 robbie robbie   217 Apr 13 18:06 kernel-3623.json<br />-rw-rw-r-- 1 robbie robbie 14424 Apr 14 13:13 Marv.ipynb<br />-rw-rw-r-- 1 robbie robbie  2272 Apr 13 22:53 message_builder.beam<br />-rwxrwxrwx 1 robbie robbie  7573 Apr 12 12:43 message_builder.erl<br />-rw-rw-r-- 1 robbie robbie  1504 Apr 13 22:53 message_parser.beam<br />-rwxrwxrwx 1 robbie robbie  2391 Apr  3 14:25 message_parser.erl<br />-rw-rw-r-- 1 robbie robbie  1708 Apr 13 22:53 message_sender.beam<br />-rwxrwxrwx 1 robbie robbie  2697 Apr  9 11:25 message_sender.erl<br />-rw-rw-r-- 1 robbie robbie 13400 Apr 13 22:53 mochijson2.beam<br />-rwxrwxrwx 1 robbie robbie 32035 Apr  3 00:02 mochijson2.erl<br />-rw-rw-r-- 1 robbie robbie     0 Apr 13 22:18 pwd<br />-rw-rw-r-- 1 robbie robbie  7752 Apr 14 13:11 rex.beam<br />-rw-rw-r-- 1 robbie robbie  6619 Apr 14 13:11 rex.erl<br />-rw-rw-r-- 1 robbie robbie 11069 Apr 12 13:15 Rex.ipynb<br />-rw-rw-r-- 1 robbie robbie 10869 Apr 12 13:45 Richie.ipynb<br />-rw-rw-r-- 1 robbie robbie  3440 Apr 13 22:53 shell.beam<br />-rwxrwxrwx 1 robbie robbie  9352 Apr 11 22:33 shell.erl<br />-rwxr-xr-x 1 robbie robbie   432 Apr 12 14:46 start-ierl-console.sh<br />-rwxr-xr-x 1 robbie robbie   761 Apr 13 23:11 start-ierl-notebook.sh<br />-rwxr-xr-x 1 robbie robbie   428 Apr  4 12:08 start-ierl-notebook.sh~<br />-rwxr-xr-x 1 robbie robbie   434 Apr 13 18:14 start-ierl-qtconsole.sh<br />-rwxr-xr-x 1 robbie robbie   433 Apr 13 18:14 start-ierl-qtconsole.sh~<br />-rw-rw-r-- 1 robbie robbie   700 Apr 11 23:02 super_awesome_module.beam<br />-rw-rw-r-- 1 robbie robbie   226 Apr 11 23:02 super_awesome_module.erl<br />-rw-rw-r-- 1 robbie robbie   576 Apr 13 21:08 tester.beam<br />-rw-rw-r-- 1 robbie robbie    58 Apr 13 21:08 tester.erl<br />-rw-rw-r-- 1 robbie robbie  1516 Apr 13 22:53 uuid.beam<br />-rwxrwxrwx 1 robbie robbie  2727 Apr  3 00:02 uuid.erl<br />-rw-rw-r-- 1 robbie robbie    53 Apr 11 23:41 whatupppp.erl<br />-rw-rw-r-- 1 robbie robbie  1728 Apr 13 22:53 zmq_manager.beam<br />-rwxrwxrwx 1 robbie robbie  2249 Apr  8 15:24 zmq_manager.erl<br />"
       ],
       "metadata": {},
       "output_type": "pyout",
       "prompt_number": 8,
       "text": [
        "total 280\n",
        "-rw-rw-r-- 1 robbie robbie  2352 Apr 13 22:53 code_manager.beam\n",
        "-rwxrwxr-x 1 robbie robbie  3188 Apr 13 21:57 code_manager.erl\n",
        "-rw-rw-r-- 1 robbie robbie   844 Apr 13 22:53 control.beam\n",
        "-rwxrwxrwx 1 robbie robbie   699 Apr  3 12:28 control.erl\n",
        "-rw-rw-r-- 1 robbie robbie   616 Apr 11 22:39 example.beam\n",
        "-rw-rw-r-- 1 robbie robbie    54 Apr 11 22:39 example.erl\n",
        "-rw-rw-r-- 1 robbie robbie   860 Apr 13 22:53 heartbeat.beam\n",
        "-rwxrwxrwx 1 robbie robbie   978 Apr  3 12:28 heartbeat.erl\n",
        "-rw-rw-r-- 1 robbie robbie   564 Apr 13 22:43 hi.beam\n",
        "-rw-rw-r-- 1 robbie robbie    41 Apr 13 20:55 hi.erl\n",
        "-rw-rw-r-- 1 robbie robbie  9629 Apr 13 22:50 IErlang April 13, 2014.ipynb\n",
        "-rw-rw-r-- 1 robbie robbie  4950 Apr 10 11:27 IErlang Example.ipynb\n",
        "-rw-rw-r-- 1 robbie robbie  3653 Apr 11 23:08 IErlangModules.ipynb\n",
        "drwxrwxr-x 2 robbie robbie  4096 Apr 13 22:20 ipython_edited_files\n",
        "-rwxrwxrwx 1 robbie robbie  2351 Apr  8 16:10 ipython_kernel.erl\n",
        "-rw-rw-r-- 1 robbie robbie   217 Apr 13 18:06 kernel-3623.json\n",
        "-rw-rw-r-- 1 robbie robbie 14424 Apr 14 13:13 Marv.ipynb\n",
        "-rw-rw-r-- 1 robbie robbie  2272 Apr 13 22:53 message_builder.beam\n",
        "-rwxrwxrwx 1 robbie robbie  7573 Apr 12 12:43 message_builder.erl\n",
        "-rw-rw-r-- 1 robbie robbie  1504 Apr 13 22:53 message_parser.beam\n",
        "-rwxrwxrwx 1 robbie robbie  2391 Apr  3 14:25 message_parser.erl\n",
        "-rw-rw-r-- 1 robbie robbie  1708 Apr 13 22:53 message_sender.beam\n",
        "-rwxrwxrwx 1 robbie robbie  2697 Apr  9 11:25 message_sender.erl\n",
        "-rw-rw-r-- 1 robbie robbie 13400 Apr 13 22:53 mochijson2.beam\n",
        "-rwxrwxrwx 1 robbie robbie 32035 Apr  3 00:02 mochijson2.erl\n",
        "-rw-rw-r-- 1 robbie robbie     0 Apr 13 22:18 pwd\n",
        "-rw-rw-r-- 1 robbie robbie  7752 Apr 14 13:11 rex.beam\n",
        "-rw-rw-r-- 1 robbie robbie  6619 Apr 14 13:11 rex.erl\n",
        "-rw-rw-r-- 1 robbie robbie 11069 Apr 12 13:15 Rex.ipynb\n",
        "-rw-rw-r-- 1 robbie robbie 10869 Apr 12 13:45 Richie.ipynb\n",
        "-rw-rw-r-- 1 robbie robbie  3440 Apr 13 22:53 shell.beam\n",
        "-rwxrwxrwx 1 robbie robbie  9352 Apr 11 22:33 shell.erl\n",
        "-rwxr-xr-x 1 robbie robbie   432 Apr 12 14:46 start-ierl-console.sh\n",
        "-rwxr-xr-x 1 robbie robbie   761 Apr 13 23:11 start-ierl-notebook.sh\n",
        "-rwxr-xr-x 1 robbie robbie   428 Apr  4 12:08 start-ierl-notebook.sh~\n",
        "-rwxr-xr-x 1 robbie robbie   434 Apr 13 18:14 start-ierl-qtconsole.sh\n",
        "-rwxr-xr-x 1 robbie robbie   433 Apr 13 18:14 start-ierl-qtconsole.sh~\n",
        "-rw-rw-r-- 1 robbie robbie   700 Apr 11 23:02 super_awesome_module.beam\n",
        "-rw-rw-r-- 1 robbie robbie   226 Apr 11 23:02 super_awesome_module.erl\n",
        "-rw-rw-r-- 1 robbie robbie   576 Apr 13 21:08 tester.beam\n",
        "-rw-rw-r-- 1 robbie robbie    58 Apr 13 21:08 tester.erl\n",
        "-rw-rw-r-- 1 robbie robbie  1516 Apr 13 22:53 uuid.beam\n",
        "-rwxrwxrwx 1 robbie robbie  2727 Apr  3 00:02 uuid.erl\n",
        "-rw-rw-r-- 1 robbie robbie    53 Apr 11 23:41 whatupppp.erl\n",
        "-rw-rw-r-- 1 robbie robbie  1728 Apr 13 22:53 zmq_manager.beam\n",
        "-rwxrwxrwx 1 robbie robbie  2249 Apr  8 15:24 zmq_manager.erl\n"
       ]
      }
     ],
     "prompt_number": 8
    },
    {
     "cell_type": "code",
     "collapsed": false,
     "input": [],
     "language": "python",
     "metadata": {},
     "outputs": []
    }
   ],
   "metadata": {}
  }
 ]
}